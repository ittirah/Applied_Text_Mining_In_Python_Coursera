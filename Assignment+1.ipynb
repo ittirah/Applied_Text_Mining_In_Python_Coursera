{
 "cells": [
  {
   "cell_type": "markdown",
   "metadata": {},
   "source": [
    "---\n",
    "\n",
    "_You are currently looking at **version 1.1** of this notebook. To download notebooks and datafiles, as well as get help on Jupyter notebooks in the Coursera platform, visit the [Jupyter Notebook FAQ](https://www.coursera.org/learn/python-text-mining/resources/d9pwm) course resource._\n",
    "\n",
    "---"
   ]
  },
  {
   "cell_type": "markdown",
   "metadata": {},
   "source": [
    "# Assignment 1\n",
    "\n",
    "In this assignment, you'll be working with messy medical data and using regex to extract relevant infromation from the data. \n",
    "\n",
    "Each line of the `dates.txt` file corresponds to a medical note. Each note has a date that needs to be extracted, but each date is encoded in one of many formats.\n",
    "\n",
    "The goal of this assignment is to correctly identify all of the different date variants encoded in this dataset and to properly normalize and sort the dates. \n",
    "\n",
    "Here is a list of some of the variants you might encounter in this dataset:\n",
    "* 04/20/2009; 04/20/09; 4/20/09; 4/3/09\n",
    "* Mar-20-2009; Mar 20, 2009; March 20, 2009;  Mar. 20, 2009; Mar 20 2009;\n",
    "* 20 Mar 2009; 20 March 2009; 20 Mar. 2009; 20 March, 2009\n",
    "* Mar 20th, 2009; Mar 21st, 2009; Mar 22nd, 2009\n",
    "* Feb 2009; Sep 2009; Oct 2010\n",
    "* 6/2008; 12/2009\n",
    "* 2009; 2010\n",
    "\n",
    "Once you have extracted these date patterns from the text, the next step is to sort them in ascending chronological order accoring to the following rules:\n",
    "* Assume all dates in xx/xx/xx format are mm/dd/yy\n",
    "* Assume all dates where year is encoded in only two digits are years from the 1900's (e.g. 1/5/89 is January 5th, 1989)\n",
    "* If the day is missing (e.g. 9/2009), assume it is the first day of the month (e.g. September 1, 2009).\n",
    "* If the month is missing (e.g. 2010), assume it is the first of January of that year (e.g. January 1, 2010).\n",
    "* Watch out for potential typos as this is a raw, real-life derived dataset.\n",
    "\n",
    "With these rules in mind, find the correct date in each note and return a pandas Series in chronological order of the original Series' indices.\n",
    "\n",
    "For example if the original series was this:\n",
    "\n",
    "    0    1999\n",
    "    1    2010\n",
    "    2    1978\n",
    "    3    2015\n",
    "    4    1985\n",
    "\n",
    "Your function should return this:\n",
    "\n",
    "    0    2\n",
    "    1    4\n",
    "    2    0\n",
    "    3    1\n",
    "    4    3\n",
    "\n",
    "Your score will be calculated using [Kendall's tau](https://en.wikipedia.org/wiki/Kendall_rank_correlation_coefficient), a correlation measure for ordinal data.\n",
    "\n",
    "*This function should return a Series of length 500 and dtype int.*"
   ]
  },
  {
   "cell_type": "code",
   "execution_count": 45,
   "metadata": {
    "collapsed": true
   },
   "outputs": [],
   "source": [
    "import time\n",
    "import pandas as pd\n",
    "from calendar import month_name\n",
    "import dateutil.parser\n",
    "from datetime import datetime\n",
    "doc = []\n",
    "with open('dates.txt') as file:\n",
    "    for line in file:\n",
    "        doc.append(line)\n",
    "\n",
    "df = pd.Series(doc)\n"
   ]
  },
  {
   "cell_type": "code",
   "execution_count": 65,
   "metadata": {
    "collapsed": true
   },
   "outputs": [],
   "source": [
    "def date_sorter():\n",
    "    df1 = df.str.extract('((?:\\d?\\d )?(?:Jan|Feb|Mar|Apr|May|Jun|Jul|Aug|Sep|Oct|Nov|Dec)[a-z]*[-,. ]\\s?\\d{0,2}[a-z]*[-,. ]?\\s?\\d{2,4}|\\d{1,2}[\\/-]\\d{1,2}[\\/-]\\d{2,4}|(?:\\d{1,2}[\\/])\\d{4}|(?:19|20)\\d{2})')\n",
    "    df11 = df1.str.replace(r'((\\d?\\d)\\/(\\d?\\d)\\/(\\d\\d))' , lambda x: x.groups()[2] +'/'+ x.groups()[1] +'/'+ x.groups()[3])\n",
    "    #To add 19 for the dates which have only two digits for year eg:4/3/09\n",
    "    df2 =df11.str.replace(r'^(\\d{1,2}[-/])(\\d{1,2}[-/])(\\d{2})$' , lambda x: x.groups()[0]+x.groups()[1]+'19'+x.groups()[2])\n",
    "    #To add January 1st in front of the dates which only have year eg:1980\n",
    "    df3 = df2.str.replace(r'(^\\d{4}$)',  lambda x: 'January 1,'+x.groups()[0])\n",
    "    #To add 1 for the dates which have only month and year eg: 07/1996\n",
    "    df4 = df3.str.replace(r'(^\\d{1,2}/\\d{4}$)', lambda x: '1/'+x.groups()[0])\n",
    "    #To add 1 for dates which have only month and year eg January 1993 df4[298]\n",
    "    df5 = df4.str.replace(r'^((Jan|Feb|Mar|Apr|May|Jun|Jul|Aug|Sep|Oct|Nov|Dec)[a-z]*) (\\d{4})$', lambda x:  '1 '+ x.groups()[0]+','+x.groups()[2])   \n",
    "    #Correct the typo in January spelling\n",
    "    df5[298] = '1 January,1993'\n",
    "    #To correct the typo in December spelling\n",
    "    df5[313]= '1 December,1978'\n",
    "    #To convert all the dates to the format %d/%m/%Y\n",
    "    for i in range(len(df5)):\n",
    "        df5[i] = dateutil.parser.parse(df5[i], dayfirst = True).strftime('%d/%m/%Y')\n",
    "        df2[i] = time.mktime(datetime.strptime(df5[i], '%d/%m/%Y').timetuple())\n",
    "\n",
    "    \n",
    "    days = pd.DataFrame(df2)\n",
    "    a = pd.DataFrame(days.sort_values(by = 0))    \n",
    "    answer = pd.Series(a.index)\n",
    "    return answer\n",
    "    "
   ]
  }
 ],
 "metadata": {
  "coursera": {
   "course_slug": "python-text-mining",
   "graded_item_id": "LvcWI",
   "launcher_item_id": "krne9",
   "part_id": "Mkp1I"
  },
  "kernelspec": {
   "display_name": "Python 3",
   "language": "python",
   "name": "python3"
  },
  "language_info": {
   "codemirror_mode": {
    "name": "ipython",
    "version": 3
   },
   "file_extension": ".py",
   "mimetype": "text/x-python",
   "name": "python",
   "nbconvert_exporter": "python",
   "pygments_lexer": "ipython3",
   "version": "3.6.2"
  }
 },
 "nbformat": 4,
 "nbformat_minor": 2
}
